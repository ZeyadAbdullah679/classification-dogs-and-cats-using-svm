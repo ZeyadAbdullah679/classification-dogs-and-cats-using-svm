{
 "cells": [
  {
   "cell_type": "code",
   "execution_count": 17,
   "id": "f7070676",
   "metadata": {},
   "outputs": [
    {
     "name": "stdout",
     "output_type": "stream",
     "text": [
      "Requirement already satisfied: scikit-learn in c:\\users\\sata\\appdata\\local\\programs\\python\\python311\\lib\\site-packages (1.2.2)\n",
      "Requirement already satisfied: numpy in c:\\users\\sata\\appdata\\local\\programs\\python\\python311\\lib\\site-packages (1.23.5)\n",
      "Requirement already satisfied: matplotlib in c:\\users\\sata\\appdata\\local\\programs\\python\\python311\\lib\\site-packages (3.7.1)\n",
      "Requirement already satisfied: opencv-python in c:\\users\\sata\\appdata\\local\\programs\\python\\python311\\lib\\site-packages (4.7.0.72)\n",
      "Requirement already satisfied: scipy>=1.3.2 in c:\\users\\sata\\appdata\\local\\programs\\python\\python311\\lib\\site-packages (from scikit-learn) (1.10.1)\n",
      "Requirement already satisfied: joblib>=1.1.1 in c:\\users\\sata\\appdata\\local\\programs\\python\\python311\\lib\\site-packages (from scikit-learn) (1.2.0)\n",
      "Requirement already satisfied: threadpoolctl>=2.0.0 in c:\\users\\sata\\appdata\\local\\programs\\python\\python311\\lib\\site-packages (from scikit-learn) (3.1.0)\n",
      "Requirement already satisfied: contourpy>=1.0.1 in c:\\users\\sata\\appdata\\local\\programs\\python\\python311\\lib\\site-packages (from matplotlib) (1.0.7)\n",
      "Requirement already satisfied: cycler>=0.10 in c:\\users\\sata\\appdata\\local\\programs\\python\\python311\\lib\\site-packages (from matplotlib) (0.11.0)\n",
      "Requirement already satisfied: fonttools>=4.22.0 in c:\\users\\sata\\appdata\\local\\programs\\python\\python311\\lib\\site-packages (from matplotlib) (4.39.3)\n",
      "Requirement already satisfied: kiwisolver>=1.0.1 in c:\\users\\sata\\appdata\\local\\programs\\python\\python311\\lib\\site-packages (from matplotlib) (1.4.4)\n",
      "Requirement already satisfied: packaging>=20.0 in c:\\users\\sata\\appdata\\local\\programs\\python\\python311\\lib\\site-packages (from matplotlib) (23.0)\n",
      "Requirement already satisfied: pillow>=6.2.0 in c:\\users\\sata\\appdata\\local\\programs\\python\\python311\\lib\\site-packages (from matplotlib) (9.5.0)\n",
      "Requirement already satisfied: pyparsing>=2.3.1 in c:\\users\\sata\\appdata\\local\\programs\\python\\python311\\lib\\site-packages (from matplotlib) (3.0.9)\n",
      "Requirement already satisfied: python-dateutil>=2.7 in c:\\users\\sata\\appdata\\local\\programs\\python\\python311\\lib\\site-packages (from matplotlib) (2.8.2)\n",
      "Requirement already satisfied: six>=1.5 in c:\\users\\sata\\appdata\\local\\programs\\python\\python311\\lib\\site-packages (from python-dateutil>=2.7->matplotlib) (1.16.0)\n",
      "Note: you may need to restart the kernel to use updated packages.\n"
     ]
    }
   ],
   "source": [
    "pip install scikit-learn numpy matplotlib opencv-python"
   ]
  },
  {
   "cell_type": "code",
   "execution_count": 18,
   "id": "c3244c04",
   "metadata": {},
   "outputs": [
    {
     "name": "stdout",
     "output_type": "stream",
     "text": [
      "Requirement already satisfied: requests in c:\\users\\sata\\appdata\\local\\programs\\python\\python311\\lib\\site-packages (2.28.2)\n",
      "Requirement already satisfied: charset-normalizer<4,>=2 in c:\\users\\sata\\appdata\\local\\programs\\python\\python311\\lib\\site-packages (from requests) (3.1.0)\n",
      "Requirement already satisfied: idna<4,>=2.5 in c:\\users\\sata\\appdata\\local\\programs\\python\\python311\\lib\\site-packages (from requests) (3.4)\n",
      "Requirement already satisfied: urllib3<1.27,>=1.21.1 in c:\\users\\sata\\appdata\\local\\programs\\python\\python311\\lib\\site-packages (from requests) (1.26.15)\n",
      "Requirement already satisfied: certifi>=2017.4.17 in c:\\users\\sata\\appdata\\local\\programs\\python\\python311\\lib\\site-packages (from requests) (2022.12.7)\n",
      "Note: you may need to restart the kernel to use updated packages.\n"
     ]
    }
   ],
   "source": [
    "pip install requests"
   ]
  },
  {
   "cell_type": "code",
   "execution_count": 19,
   "id": "ab5b7a5b",
   "metadata": {},
   "outputs": [
    {
     "name": "stdout",
     "output_type": "stream",
     "text": [
      "Requirement already satisfied: scikit-image in c:\\users\\sata\\appdata\\local\\programs\\python\\python311\\lib\\site-packages (0.20.0)\n",
      "Requirement already satisfied: numpy>=1.21.1 in c:\\users\\sata\\appdata\\local\\programs\\python\\python311\\lib\\site-packages (from scikit-image) (1.23.5)\n",
      "Requirement already satisfied: scipy>=1.8 in c:\\users\\sata\\appdata\\local\\programs\\python\\python311\\lib\\site-packages (from scikit-image) (1.10.1)\n",
      "Requirement already satisfied: networkx>=2.8 in c:\\users\\sata\\appdata\\local\\programs\\python\\python311\\lib\\site-packages (from scikit-image) (3.1)\n",
      "Requirement already satisfied: pillow>=9.0.1 in c:\\users\\sata\\appdata\\local\\programs\\python\\python311\\lib\\site-packages (from scikit-image) (9.5.0)\n",
      "Requirement already satisfied: imageio>=2.4.1 in c:\\users\\sata\\appdata\\local\\programs\\python\\python311\\lib\\site-packages (from scikit-image) (2.29.0)\n",
      "Requirement already satisfied: tifffile>=2019.7.26 in c:\\users\\sata\\appdata\\local\\programs\\python\\python311\\lib\\site-packages (from scikit-image) (2023.4.12)\n",
      "Requirement already satisfied: PyWavelets>=1.1.1 in c:\\users\\sata\\appdata\\local\\programs\\python\\python311\\lib\\site-packages (from scikit-image) (1.4.1)\n",
      "Requirement already satisfied: packaging>=20.0 in c:\\users\\sata\\appdata\\local\\programs\\python\\python311\\lib\\site-packages (from scikit-image) (23.0)\n",
      "Requirement already satisfied: lazy_loader>=0.1 in c:\\users\\sata\\appdata\\local\\programs\\python\\python311\\lib\\site-packages (from scikit-image) (0.2)\n",
      "Note: you may need to restart the kernel to use updated packages.\n"
     ]
    }
   ],
   "source": [
    "pip install scikit-image\n"
   ]
  },
  {
   "cell_type": "code",
   "execution_count": 20,
   "id": "f239d47b",
   "metadata": {},
   "outputs": [
    {
     "name": "stdout",
     "output_type": "stream",
     "text": [
      "Requirement already satisfied: tk in c:\\users\\sata\\appdata\\local\\programs\\python\\python311\\lib\\site-packages (0.1.0)\n",
      "Note: you may need to restart the kernel to use updated packages.\n"
     ]
    }
   ],
   "source": [
    "pip install tk\n"
   ]
  },
  {
   "cell_type": "code",
   "execution_count": 21,
   "id": "a33926b6",
   "metadata": {},
   "outputs": [],
   "source": [
    "import cv2\n",
    "import numpy as np\n",
    "import os\n",
    "from sklearn.model_selection import train_test_split\n",
    "from sklearn.svm import SVC\n",
    "from sklearn.metrics import accuracy_score\n",
    "from sklearn.metrics import classification_report\n",
    "from keras.applications.vgg16 import VGG16\n",
    "from sklearn.metrics import confusion_matrix\n",
    "from skimage.transform import resize\n",
    "from keras.applications.vgg16 import preprocess_input\n",
    "from PIL import Image"
   ]
  },
  {
   "cell_type": "code",
   "execution_count": 22,
   "id": "76ce1329",
   "metadata": {},
   "outputs": [],
   "source": [
    "# Define image size\n",
    "img_size = (100, 100)\n",
    "categories = ['cats', 'dogs']\n",
    "\n",
    "# Change the path according to images location\n",
    "dir = \"./dataset/training_set/\"\n",
    "\n",
    "\n",
    "def load_dataset():\n",
    "    # Define list for input and output data\n",
    "    input = []\n",
    "    output = []\n",
    "\n",
    "    for type in categories:\n",
    "        print(f'loading... category : {type}')\n",
    "        path = os.path.join(dir, type)\n",
    "        \n",
    "        # Resize and flat every image in a category\n",
    "        for img in os.listdir(path):\n",
    "            img_path = os.path.join(path, img)\n",
    "            img = Image.open(img_path)\n",
    "            img = img.resize(img_size)\n",
    "            img = np.array(img)\n",
    "            img = preprocess_input(img)\n",
    "            input.append(img)\n",
    "            output.append(categories.index(type))\n",
    "\n",
    "    input = np.array(input)\n",
    "    output = np.array(output)\n",
    "    return input, output"
   ]
  },
  {
   "cell_type": "code",
   "execution_count": 23,
   "id": "8a84e7cb",
   "metadata": {
    "scrolled": false
   },
   "outputs": [
    {
     "name": "stdout",
     "output_type": "stream",
     "text": [
      "loading... category : cats\n",
      "loading... category : dogs\n",
      "Loaded\n",
      "200/200 [==============================] - 347s 2s/step\n",
      "SVM Starts\n",
      "Start Fit\n",
      "50/50 [==============================] - 59s 1s/step\n",
      "Predicted\n",
      "Accuracy: 0.896875\n",
      "Classificatoin Report:               precision    recall  f1-score   support\n",
      "\n",
      "           0       0.84      0.99      0.91       804\n",
      "           1       0.99      0.80      0.89       796\n",
      "\n",
      "    accuracy                           0.90      1600\n",
      "   macro avg       0.91      0.90      0.90      1600\n",
      "weighted avg       0.91      0.90      0.90      1600\n",
      "\n",
      "Confusion matrix:\n",
      " [[796   8]\n",
      " [157 639]]\n"
     ]
    }
   ],
   "source": [
    "input, output = load_dataset()\n",
    "print(\"Loaded\")\n",
    "# Split dataset into training and testing sets\n",
    "X_train, X_test, Y_train, Y_test = train_test_split(\n",
    "    input, output, test_size=0.2, random_state=42)\n",
    "\n",
    "# Load the pre-trained VGG16 model without the classifier layer\n",
    "model = VGG16(weights='imagenet', include_top=False,\n",
    "              input_shape=(img_size[0], img_size[1], 3))\n",
    "\n",
    "# Extract features from the training set\n",
    "X_train_features = model.predict(X_train)\n",
    "X_train_features = X_train_features.reshape(X_train_features.shape[0], -1)\n",
    "\n",
    "# Define SVM classifier\n",
    "svm = SVC(kernel=\"poly\")\n",
    "print(\"SVM Starts\")\n",
    "\n",
    "# Train the classifier\n",
    "print(\"Start Fit\")\n",
    "svm.fit(X_train_features, Y_train)\n",
    "\n",
    "\n",
    "# Extract features from the testing set\n",
    "X_test_features = model.predict(X_test)\n",
    "X_test_features = X_test_features.reshape(X_test_features.shape[0], -1)\n",
    "\n",
    "\n",
    "# Make predictions on test set\n",
    "Y_pred = svm.predict(X_test_features)\n",
    "print(\"Predicted\")\n",
    "\n",
    "# Evaluate performance of SVM classifier\n",
    "accuracy = accuracy_score(Y_test, Y_pred)\n",
    "report = classification_report(Y_test, Y_pred)\n",
    "confusion = confusion_matrix(Y_test, Y_pred)\n",
    "\n",
    "print(\"Accuracy:\", accuracy)\n",
    "print(\"Classificatoin Report:\", report)\n",
    "print(\"Confusion matrix:\\n\", confusion)"
   ]
  },
  {
   "cell_type": "code",
   "execution_count": 24,
   "id": "9d0928ea",
   "metadata": {},
   "outputs": [
    {
     "name": "stdout",
     "output_type": "stream",
     "text": [
      "1/1 [==============================] - 0s 217ms/step\n",
      "cats\n",
      "1/1 [==============================] - 0s 69ms/step\n",
      "cats\n"
     ]
    }
   ],
   "source": [
    "import tkinter as tk\n",
    "from tkinter import filedialog\n",
    "from tkinter import *\n",
    "from PIL import ImageTk, Image\n",
    "\n",
    "# initialise GUI\n",
    "top = tk.Tk()\n",
    "top.geometry('800x600')\n",
    "top.title('CatsVSDogs Classification')\n",
    "top.configure(background='#CDCDCD')\n",
    "label = Label(top, background='#CDCDCD', font=('arial', 15, 'bold'))\n",
    "sign_image = Label(top)\n",
    "\n",
    "\n",
    "def classify(file_path):\n",
    "    list = []\n",
    "    img = Image.open(file_path)\n",
    "    img = img.resize(img_size)\n",
    "    img = np.array(img)\n",
    "    img = preprocess_input(img)\n",
    "    list.append(img)\n",
    "    list = np.array(list)\n",
    "\n",
    "\n",
    "    sample = model.predict(list)\n",
    "    sample = sample.reshape(sample.shape[0], -1)\n",
    "\n",
    "    \n",
    "    pred = svm.predict(sample)\n",
    "\n",
    "    sign = categories[pred[0]]\n",
    "    print(sign)\n",
    "    label.configure(foreground='#011638', text=sign)\n",
    "\n",
    "\n",
    "def show_classify_button(file_path):\n",
    "    classify_b = Button(top, text=\"Classify Image\",\n",
    "                        command=lambda: classify(file_path),\n",
    "                        padx=10, pady=5)\n",
    "    classify_b.configure(background='#364156', foreground='white',\n",
    "                         font=('arial', 10, 'bold'))\n",
    "    classify_b.place(relx=0.79, rely=0.46)\n",
    "\n",
    "\n",
    "def upload_image():\n",
    "    try:\n",
    "        file_path = filedialog.askopenfilename()\n",
    "        uploaded = Image.open(file_path)\n",
    "        uploaded.thumbnail(((top.winfo_width()/2.25),\n",
    "                            (top.winfo_height()/2.25)))\n",
    "        im = ImageTk.PhotoImage(uploaded)\n",
    "        sign_image.configure(image=im)\n",
    "        sign_image.image = im\n",
    "        label.configure(text='')\n",
    "        show_classify_button(file_path)\n",
    "    except:\n",
    "        pass\n",
    "\n",
    "\n",
    "upload = Button(top, text=\"Upload an image\",\n",
    "                command=upload_image, padx=10, pady=5)\n",
    "upload.configure(background='#364156', foreground='white',\n",
    "                 font=('arial', 10, 'bold'))\n",
    "upload.pack(side=BOTTOM, pady=50)\n",
    "sign_image.pack(side=BOTTOM, expand=True)\n",
    "label.pack(side=BOTTOM, expand=True)\n",
    "heading = Label(top, text=\"CatsVSDogs Classification\",\n",
    "                pady=20, font=('arial', 20, 'bold'))\n",
    "heading.configure(background='#CDCDCD', foreground='#364156')\n",
    "heading.pack()\n",
    "top.mainloop()\n"
   ]
  }
 ],
 "metadata": {
  "kernelspec": {
   "display_name": "Python 3 (ipykernel)",
   "language": "python",
   "name": "python3"
  },
  "language_info": {
   "codemirror_mode": {
    "name": "ipython",
    "version": 3
   },
   "file_extension": ".py",
   "mimetype": "text/x-python",
   "name": "python",
   "nbconvert_exporter": "python",
   "pygments_lexer": "ipython3",
   "version": "3.11.3"
  }
 },
 "nbformat": 4,
 "nbformat_minor": 5
}
